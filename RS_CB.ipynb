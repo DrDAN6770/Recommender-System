{
 "cells": [
  {
   "cell_type": "markdown",
   "metadata": {},
   "source": [
    "# Content-Based filtering\n",
    "---\n",
    "內容相似度 : 輸入電影尋找相似的電影並推薦(餘弦相似度)\n",
    "\n",
    "概念 : 喜歡某電影，可能也喜歡類似該部的電影"
   ]
  },
  {
   "cell_type": "code",
   "execution_count": 1,
   "metadata": {},
   "outputs": [],
   "source": [
    "import pandas as pd\n",
    "from sklearn.metrics.pairwise import cosine_similarity"
   ]
  },
  {
   "cell_type": "code",
   "execution_count": 2,
   "metadata": {},
   "outputs": [],
   "source": [
    "# movies\n",
    "item_col = ['movie_id', 'movie_title' ,'release_date','video_release_date', 'IMDb_URL', 'unknown', 'Action', 'Adventure',\n",
    " 'Animation', \"Children's\", 'Comedy', 'Crime', 'Documentary', 'Drama', 'Fantasy',\n",
    " 'Film-Noir', 'Horror', 'Musical', 'Mystery', 'Romance', 'Sci-Fi', 'Thriller', 'War', 'Western']\n",
    "item_df = pd.read_csv('input/ml-100k/u.item', sep=\"|\", encoding='latin-1', names=item_col)"
   ]
  },
  {
   "cell_type": "code",
   "execution_count": 3,
   "metadata": {},
   "outputs": [
    {
     "name": "stdout",
     "output_type": "stream",
     "text": [
      "原始電影數 : 1682\n",
      "去重後電影數 : 1664\n"
     ]
    }
   ],
   "source": [
    "# 刪除內容相似度不需要的欄位\n",
    "contentBased_df = item_df.drop(['release_date', 'video_release_date', 'IMDb_URL'], axis=1)\n",
    "print('原始電影數 :', len(contentBased_df))\n",
    "# 刪除相同movie_title不同movie_id但類型相同的重複電影\n",
    "# contentBased_df.duplicated(subset=contentBased_df.columns.difference(['movie_id'])).sum() # 18\n",
    "contentBased_df.drop_duplicates(subset=contentBased_df.columns.difference(['movie_id']), keep='last', inplace=True)\n",
    "contentBased_df.reset_index(drop=True, inplace=True)\n",
    "print('去重後電影數 :', len(contentBased_df))"
   ]
  },
  {
   "cell_type": "code",
   "execution_count": 4,
   "metadata": {},
   "outputs": [],
   "source": [
    "# 計算餘弦相似度\n",
    "features_matrix = contentBased_df.iloc[:, 2:]\n",
    "cosine_sim_features = cosine_similarity(features_matrix, features_matrix)"
   ]
  },
  {
   "cell_type": "code",
   "execution_count": 14,
   "metadata": {},
   "outputs": [],
   "source": [
    "def get_similar_movies_bycontent(df, movie_id, seen = [], num_recom = 10):\n",
    "    idx = movie_id - 1\n",
    "    sim_scores = list(enumerate(cosine_sim_features[idx])) # 該idx電影對其他電影的相似度 (index, score)\n",
    "    sim_scores = sorted(sim_scores, key=lambda x: x[1], reverse=True)[1:] # 排序分數並排除自己\n",
    "\n",
    "    # 使用者已看過的就不推, 如果全部電影都已看過則返回空結果\n",
    "    temp = []\n",
    "    id = 0\n",
    "    while len(temp) != num_recom and id < len(sim_scores):\n",
    "        real_idx = df.loc[sim_scores[id][0], 'movie_id']\n",
    "        if real_idx not in seen:\n",
    "            temp.append((real_idx, sim_scores[id][1]))\n",
    "        id += 1\n",
    "    \n",
    "    # 返回電影movie_id, movie_title, 餘弦相似度\n",
    "    result = []\n",
    "    for movie_idx, score in temp:\n",
    "        movie_info = {\n",
    "            'movie_id':movie_idx,\n",
    "            'movie_title':df[df['movie_id'] == movie_idx]['movie_title'].values[0],\n",
    "            'cosine_similarity': round(score, 4)\n",
    "        }\n",
    "        result.append(movie_info)\n",
    "\n",
    "    wantedTofind = contentBased_df[contentBased_df['movie_id'] == movie_id]['movie_title'].values[0]\n",
    "    print(f'Recommendation for moives silmlar with \"{wantedTofind}\"')\n",
    "    print(f\"You've already watched {len(seen)} movies those we don't recommend again!\")\n",
    "    for i, m in enumerate(seen, 1):\n",
    "        print(i, contentBased_df[contentBased_df['movie_id'] == m]['movie_title'].values[0])\n",
    "\n",
    "    return pd.DataFrame(result)"
   ]
  },
  {
   "cell_type": "markdown",
   "metadata": {},
   "source": [
    "# Test"
   ]
  },
  {
   "cell_type": "code",
   "execution_count": 16,
   "metadata": {},
   "outputs": [
    {
     "name": "stdout",
     "output_type": "stream",
     "text": [
      "Recommendation for moives silmlar with \"Toy Story (1995)\"\n",
      "You've already watched 4 movies those we don't recommend again!\n",
      "1 Miami Rhapsody (1995)\n",
      "2 Beavis and Butt-head Do America (1996)\n",
      "3 White Balloon, The (1995)\n",
      "4 GoldenEye (1995)\n"
     ]
    },
    {
     "data": {
      "text/html": [
       "<div>\n",
       "<style scoped>\n",
       "    .dataframe tbody tr th:only-of-type {\n",
       "        vertical-align: middle;\n",
       "    }\n",
       "\n",
       "    .dataframe tbody tr th {\n",
       "        vertical-align: top;\n",
       "    }\n",
       "\n",
       "    .dataframe thead th {\n",
       "        text-align: right;\n",
       "    }\n",
       "</style>\n",
       "<table border=\"1\" class=\"dataframe\">\n",
       "  <thead>\n",
       "    <tr style=\"text-align: right;\">\n",
       "      <th></th>\n",
       "      <th>movie_id</th>\n",
       "      <th>movie_title</th>\n",
       "      <th>cosine_similarity</th>\n",
       "    </tr>\n",
       "  </thead>\n",
       "  <tbody>\n",
       "    <tr>\n",
       "      <th>0</th>\n",
       "      <td>422</td>\n",
       "      <td>Aladdin and the King of Thieves (1996)</td>\n",
       "      <td>1.0000</td>\n",
       "    </tr>\n",
       "    <tr>\n",
       "      <th>1</th>\n",
       "      <td>95</td>\n",
       "      <td>Aladdin (1992)</td>\n",
       "      <td>0.8660</td>\n",
       "    </tr>\n",
       "    <tr>\n",
       "      <th>2</th>\n",
       "      <td>1219</td>\n",
       "      <td>Goofy Movie, A (1995)</td>\n",
       "      <td>0.8660</td>\n",
       "    </tr>\n",
       "    <tr>\n",
       "      <th>3</th>\n",
       "      <td>63</td>\n",
       "      <td>Santa Clause, The (1994)</td>\n",
       "      <td>0.8165</td>\n",
       "    </tr>\n",
       "    <tr>\n",
       "      <th>4</th>\n",
       "      <td>94</td>\n",
       "      <td>Home Alone (1990)</td>\n",
       "      <td>0.8165</td>\n",
       "    </tr>\n",
       "    <tr>\n",
       "      <th>5</th>\n",
       "      <td>102</td>\n",
       "      <td>Aristocats, The (1970)</td>\n",
       "      <td>0.8165</td>\n",
       "    </tr>\n",
       "    <tr>\n",
       "      <th>6</th>\n",
       "      <td>138</td>\n",
       "      <td>D3: The Mighty Ducks (1996)</td>\n",
       "      <td>0.8165</td>\n",
       "    </tr>\n",
       "    <tr>\n",
       "      <th>7</th>\n",
       "      <td>139</td>\n",
       "      <td>Love Bug, The (1969)</td>\n",
       "      <td>0.8165</td>\n",
       "    </tr>\n",
       "    <tr>\n",
       "      <th>8</th>\n",
       "      <td>169</td>\n",
       "      <td>Wrong Trousers, The (1993)</td>\n",
       "      <td>0.8165</td>\n",
       "    </tr>\n",
       "    <tr>\n",
       "      <th>9</th>\n",
       "      <td>189</td>\n",
       "      <td>Grand Day Out, A (1992)</td>\n",
       "      <td>0.8165</td>\n",
       "    </tr>\n",
       "  </tbody>\n",
       "</table>\n",
       "</div>"
      ],
      "text/plain": [
       "   movie_id                             movie_title  cosine_similarity\n",
       "0       422  Aladdin and the King of Thieves (1996)             1.0000\n",
       "1        95                          Aladdin (1992)             0.8660\n",
       "2      1219                   Goofy Movie, A (1995)             0.8660\n",
       "3        63                Santa Clause, The (1994)             0.8165\n",
       "4        94                       Home Alone (1990)             0.8165\n",
       "5       102                  Aristocats, The (1970)             0.8165\n",
       "6       138             D3: The Mighty Ducks (1996)             0.8165\n",
       "7       139                    Love Bug, The (1969)             0.8165\n",
       "8       169              Wrong Trousers, The (1993)             0.8165\n",
       "9       189                 Grand Day Out, A (1992)             0.8165"
      ]
     },
     "execution_count": 16,
     "metadata": {},
     "output_type": "execute_result"
    }
   ],
   "source": [
    "# get_similar_movies_bycontent(data_set, 來源電影編號, 已看過電影編號(內建無), 推薦幾部相似的(內建10))\n",
    "# 電影編號1為 Toy Story (1995)\n",
    "# seen = contentBased_df['movie_id'].values << 全電影都看過\n",
    "seen = [700, 240, 18, 2]\n",
    "get_similar_movies_bycontent(contentBased_df, 1, seen)"
   ]
  }
 ],
 "metadata": {
  "kernelspec": {
   "display_name": "Py_ML_envirment",
   "language": "python",
   "name": "python3"
  },
  "language_info": {
   "codemirror_mode": {
    "name": "ipython",
    "version": 3
   },
   "file_extension": ".py",
   "mimetype": "text/x-python",
   "name": "python",
   "nbconvert_exporter": "python",
   "pygments_lexer": "ipython3",
   "version": "3.11.2"
  },
  "orig_nbformat": 4
 },
 "nbformat": 4,
 "nbformat_minor": 2
}
